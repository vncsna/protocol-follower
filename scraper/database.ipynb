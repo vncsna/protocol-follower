{
 "cells": [
  {
   "cell_type": "code",
   "execution_count": null,
   "metadata": {},
   "outputs": [],
   "source": [
    "# REMEMBER: Heroku Postgres has a 10k rows limit\n",
    "# TODO: Use another database, or use array inside row"
   ]
  },
  {
   "cell_type": "markdown",
   "metadata": {
    "id": "M7sTRfPanUpo"
   },
   "source": [
    "### [Pensador](https://www.pensador.com/)"
   ]
  },
  {
   "cell_type": "markdown",
   "metadata": {
    "id": "e54vHATykM-x"
   },
   "source": [
    "#### Libraries"
   ]
  },
  {
   "cell_type": "code",
   "execution_count": null,
   "metadata": {
    "id": "6ATclCsanUpt"
   },
   "outputs": [],
   "source": [
    "!pip install -U python-dotenv"
   ]
  },
  {
   "cell_type": "code",
   "execution_count": null,
   "metadata": {
    "id": "gMliwFC9kM-2"
   },
   "outputs": [],
   "source": [
    "import os\n",
    "import json\n",
    "from pathlib import Path\n",
    "from collections import OrderedDict\n",
    "\n",
    "import requests\n",
    "import psycopg2\n",
    "from bs4 import BeautifulSoup\n",
    "from dotenv import load_dotenv\n",
    "from IPython.display import clear_output"
   ]
  },
  {
   "cell_type": "code",
   "execution_count": null,
   "metadata": {
    "id": "QnqIFOlckPNn"
   },
   "outputs": [],
   "source": [
    "from google.colab import drive\r\n",
    "drive.mount('/content/drive')\r\n",
    "%cd '/content/drive/My Drive/archive/sir-protocol-bot/scraper'"
   ]
  },
  {
   "cell_type": "markdown",
   "metadata": {
    "id": "ZwO7Sq2UnUpu"
   },
   "source": [
    "#### Scraper"
   ]
  },
  {
   "cell_type": "code",
   "execution_count": null,
   "metadata": {
    "id": "3Cbop_DcnUpu"
   },
   "outputs": [],
   "source": [
    "class PensadorScraper:\n",
    "  def __init__(self):\n",
    "    self.links = OrderedDict()\n",
    "    self.phrases = OrderedDict()\n",
    "    self.next_links = ['/']\n",
    "    self.previous_links = set()\n",
    "    self.home = 'https://www.pensador.com'\n",
    "  \n",
    "  def get_links(self, url, soup):\n",
    "    links = []\n",
    "    for a in soup.find_all('a'):\n",
    "      try:\n",
    "        if a['href'].startswith('/') and \\\n",
    "           a['href'].find('.php') == -1 and \\\n",
    "           a['href'].find('/frase') == -1 and \\\n",
    "           a['href'].find('/colecao') == -1:\n",
    "          links.append(a['href'])\n",
    "      except:\n",
    "        print('a tag without href property')\n",
    "    links = set(links)\n",
    "    self.links[url] = list(links)\n",
    "    links = links - self.previous_links\n",
    "    self.next_links.extend(links)\n",
    "\n",
    "  def get_phrases(self, url, soup):\n",
    "    for card in soup.find_all('div', 'thought-card'):\n",
    "      try:\n",
    "        id_ = card.find('p', 'frase')['id']\n",
    "        phrase_ = card.find('p', 'frase').text\n",
    "        phrase_ = phrase_.strip().replace('\\u2060', '')\n",
    "      except:\n",
    "        continue\n",
    "      \n",
    "      try:\n",
    "        author_ = card.find('span', 'autor').a.text\n",
    "        author_url_ = card.find('span', 'autor').a['href']\n",
    "      except:\n",
    "        author_ = ''\n",
    "        author_url_ = ''\n",
    "      \n",
    "      try:\n",
    "        n_shares_ = card.find('div', class_='total-shares')\n",
    "        n_shares_ = n_shares.text.replace(' compartilhamentos', '')\n",
    "        if n_shares_[-4:] == ' mil':\n",
    "          n_shares_ = n_shares_.replace(' mil', '')\n",
    "          n_shares_ = float(n_shares_) * 1000\n",
    "        elif n_shares_:\n",
    "          n_shares_ = float(n_shares_)\n",
    "        else:\n",
    "          n_shares_ = 0\n",
    "      except:\n",
    "        n_shares_ = 0\n",
    "        \n",
    "      try:\n",
    "        img_url_ = card['data-src']\n",
    "      except:\n",
    "        img_url_ = ''\n",
    "      \n",
    "      if id_ not in self.phrases:\n",
    "        self.phrases[id_] = {\n",
    "          'phrase': phrase_,\n",
    "          'phrase_url': f'/frase/{id_}/',\n",
    "          'author': author_,\n",
    "          'author_url': author_url_,\n",
    "          'n_shares': n_shares_,\n",
    "          'img_url': img_url_,\n",
    "          'urls': [url]\n",
    "        }\n",
    "      elif url not in self.phrases[id_]['urls']:\n",
    "        self.phrases[id_]['urls'].append(url)\n",
    "  \n",
    "  def work(self):\n",
    "    try:\n",
    "      while self.next_links:\n",
    "        url = self.next_links.pop()\n",
    "        self.previous_links.add(url)\n",
    "\n",
    "        try:\n",
    "          page = requests.get(self.home + url)\n",
    "          page.raise_for_status()\n",
    "        except requests.exceptions.HTTPError as errh:\n",
    "          print('HTTP Error\\n', errh)\n",
    "        except requests.exceptions.ConnectionError as errc:\n",
    "          print('Error Connecting:\\n', errc)\n",
    "        except requests.exceptions.Timeout as errt:\n",
    "          print('Timeout Error:\\n', errt)\n",
    "        except requests.exceptions.RequestException as err:\n",
    "          print('An unexpected error:\\n', err)\n",
    "        else:\n",
    "          soup = BeautifulSoup(page.content, 'html.parser')\n",
    "\n",
    "          self.get_phrases(url, soup)\n",
    "          self.get_links(url, soup)\n",
    "          \n",
    "          prev_size = len(self.previous_links)\n",
    "          next_size = len(self.next_links)\n",
    "          print(url, f'{prev_size}:{next_size}')\n",
    "          clear_output(wait=True)\n",
    "    except KeyboardInterrupt:\n",
    "      pass\n",
    "  \n",
    "  def load(self):\n",
    "    with open('./phrases.json', 'r') as file:\n",
    "      self.phrases = json.load(file)\n",
    "    with open('./links.json', 'r') as file:\n",
    "      self.links = json.load(file)\n",
    "    with open('./next_links.json', 'r') as file:\n",
    "      self.next_links = json.load(file)\n",
    "    with open('./previous_links.json', 'r') as file:\n",
    "      self.previous_links = set(json.load(file))\n",
    "  \n",
    "  def save(self):\n",
    "    with open('./phrases.json', 'w') as file:\n",
    "      json.dump(self.phrases, file)\n",
    "    with open('./links.json', 'w') as file:\n",
    "      json.dump(self.links, file)\n",
    "    with open('./next_links.json', 'w') as file:\n",
    "      json.dump(self.next_links, file)\n",
    "    with open('./previous_links.json', 'w') as file:\n",
    "      json.dump(list(self.previous_links), file)\n",
    "  \n",
    "  def remove(self):\n",
    "    Path('./phrases.json').unlink()\n",
    "    Path('./links.json').unlink()\n",
    "    Path('./next_links.json').unlink()\n",
    "    Path('./previous_links.json').unlink()"
   ]
  },
  {
   "cell_type": "markdown",
   "metadata": {
    "id": "0OUbqKHlkM-4"
   },
   "source": [
    "#### PostgreSQL DB"
   ]
  },
  {
   "cell_type": "markdown",
   "metadata": {
    "id": "x4QrFceOnUpv"
   },
   "source": [
    "Load environment variables"
   ]
  },
  {
   "cell_type": "code",
   "execution_count": null,
   "metadata": {
    "id": "PfBRGa6pkM-5"
   },
   "outputs": [],
   "source": [
    "load_dotenv(dotenv_path='../.env')\n",
    "DATABASE_URL = os.environ['DATABASE_URL'] #['DATABASE_LOCAL_URL']"
   ]
  },
  {
   "cell_type": "markdown",
   "metadata": {
    "id": "eZuwNK1XnUpv"
   },
   "source": [
    "Create tables"
   ]
  },
  {
   "cell_type": "code",
   "execution_count": null,
   "metadata": {
    "id": "suE3wkasnUpw"
   },
   "outputs": [],
   "source": [
    "try:\n",
    "  conn = None\n",
    "  conn = psycopg2.connect(DATABASE_URL)#, sslmode='require')\n",
    "  cur = conn.cursor()\n",
    "  \n",
    "  # create link table\n",
    "  cur.execute('''\n",
    "    CREATE TABLE links (\n",
    "      link_id SERIAL PRIMARY KEY,\n",
    "      link VARCHAR(400) NOT NULL,\n",
    "      neighbors TEXT []\n",
    "    );\n",
    "  ''')\n",
    "\n",
    "  cur.close()\n",
    "  conn.commit()\n",
    "except (Exception, psycopg2.DatabaseError) as err:\n",
    "  print(err)\n",
    "finally:\n",
    "  if conn is not None:\n",
    "    conn.close()"
   ]
  },
  {
   "cell_type": "code",
   "execution_count": null,
   "metadata": {},
   "outputs": [],
   "source": [
    "try:\n",
    "  conn = None\n",
    "  conn = psycopg2.connect(DATABASE_URL)#, sslmode='require')\n",
    "  cur = conn.cursor()\n",
    "  \n",
    "  # create phrase table\n",
    "  cur.execute('''\n",
    "    CREATE TABLE phrases (\n",
    "      phrase_id SERIAL PRIMARY KEY,\n",
    "      phrase TEXT NOT NULL,\n",
    "      phrase_url VARCHAR(200),\n",
    "      author VARCHAR(200),\n",
    "      author_url VARCHAR(200),\n",
    "      img_url VARCHAR(400),\n",
    "      n_shares INTEGER,\n",
    "      urls TEXT []\n",
    "    );\n",
    "  ''')\n",
    "\n",
    "  cur.close()\n",
    "  conn.commit()\n",
    "except (Exception, psycopg2.DatabaseError) as err:\n",
    "  print(err)\n",
    "finally:\n",
    "  if conn is not None:\n",
    "    conn.close()"
   ]
  },
  {
   "cell_type": "markdown",
   "metadata": {
    "id": "pnHfRKYRnUpw"
   },
   "source": [
    "Insert rows"
   ]
  },
  {
   "cell_type": "code",
   "execution_count": null,
   "metadata": {
    "id": "9vNWlBSVnUpw"
   },
   "outputs": [],
   "source": [
    "scraper = PensadorScraper()\n",
    "scraper.load()\n",
    "\n",
    "phrases = [(\n",
    "  item['phrase'], \n",
    "  item['phrase_url'], \n",
    "  item['author'], \n",
    "  item['author_url'], \n",
    "  item['img_url'], \n",
    "  item['n_shares'], \n",
    "  item['urls']) \n",
    "  for _, item in scraper.phrases.items()]\n",
    "\n",
    "links = list(scraper.links.items())\n",
    "\n",
    "del scraper"
   ]
  },
  {
   "cell_type": "code",
   "execution_count": null,
   "metadata": {
    "id": "Dwj3bNx7nUpw"
   },
   "outputs": [],
   "source": [
    "try:\n",
    "  conn = None\n",
    "  conn = psycopg2.connect(DATABASE_URL, sslmode='require')\n",
    "  cur = conn.cursor()\n",
    "  \n",
    "  # insert data into phrase table\n",
    "  query = ','.join(['%s'] * len(phrases))\n",
    "  query = f'''\n",
    "    INSERT INTO \n",
    "    phrases (phrase, phrase_url, author, author_url, img_url, n_shares, urls) \n",
    "    VALUES {query};\n",
    "    '''\n",
    "  query = cur.mogrify(query, phrases).decode('utf8')\n",
    "  cur.execute(query)\n",
    "  \n",
    "  # insert data into link table\n",
    "  query = ','.join(['%s'] * len(links))\n",
    "  query = f'''\n",
    "    INSERT INTO \n",
    "    links (link, neighbors) \n",
    "    VALUES {query};\n",
    "    '''\n",
    "  query = cur.mogrify(query, links).decode('utf8')\n",
    "  cur.execute(query) \n",
    "\n",
    "  cur.close()\n",
    "  conn.commit()\n",
    "except (Exception, psycopg2.DatabaseError) as err:\n",
    "  print(err)\n",
    "finally:\n",
    "  if conn is not None:\n",
    "    conn.close()"
   ]
  },
  {
   "cell_type": "markdown",
   "metadata": {},
   "source": [
    "Count rows"
   ]
  },
  {
   "cell_type": "code",
   "execution_count": null,
   "metadata": {},
   "outputs": [],
   "source": [
    "try:\n",
    "  try:\n",
    "    conn = None\n",
    "    conn = psycopg2.connect(DATABASE_URL, sslmode='require')\n",
    "    cur = conn.cursor()\n",
    "\n",
    "    # select data from phrase table\n",
    "    query = '''\n",
    "      SELECT COUNT(link_id)\n",
    "      FROM links\n",
    "      '''\n",
    "    cur.execute(query)\n",
    "\n",
    "    # see phrases\n",
    "    result = cur.fetchone()\n",
    "    print(f'count: {result[0]}')\n",
    "\n",
    "    cur.close()\n",
    "    conn.commit()\n",
    "  except (Exception, psycopg2.DatabaseError) as err:\n",
    "    print(err)\n",
    "  finally:\n",
    "    if conn is not None:\n",
    "      conn.close()\n",
    "except KeyboardInterrupt:\n",
    "  pass"
   ]
  },
  {
   "cell_type": "code",
   "execution_count": null,
   "metadata": {},
   "outputs": [],
   "source": [
    "try:\n",
    "  try:\n",
    "    conn = None\n",
    "    conn = psycopg2.connect(DATABASE_URL, sslmode='require')\n",
    "    cur = conn.cursor()\n",
    "\n",
    "    # select data from phrase table\n",
    "    query = '''\n",
    "      SELECT COUNT(phrase_id)\n",
    "      FROM phrases\n",
    "      '''\n",
    "    cur.execute(query)\n",
    "\n",
    "    # see phrases\n",
    "    result = cur.fetchone()\n",
    "    print(f'count: {result[0]}')\n",
    "\n",
    "    cur.close()\n",
    "    conn.commit()\n",
    "  except (Exception, psycopg2.DatabaseError) as err:\n",
    "    print(err)\n",
    "  finally:\n",
    "    if conn is not None:\n",
    "      conn.close()\n",
    "except KeyboardInterrupt:\n",
    "  pass"
   ]
  },
  {
   "cell_type": "markdown",
   "metadata": {
    "id": "YbHvIllrnUpx"
   },
   "source": [
    "Consult rows"
   ]
  },
  {
   "cell_type": "code",
   "execution_count": null,
   "metadata": {
    "id": "HRlyDgYenUpx"
   },
   "outputs": [],
   "source": [
    "try:\n",
    "  try:\n",
    "    conn = None\n",
    "    conn = psycopg2.connect(DATABASE_URL, sslmode='require')\n",
    "    cur = conn.cursor()\n",
    "\n",
    "    # select data from phrase table\n",
    "    query = '''\n",
    "      SELECT *\n",
    "      FROM phrases'''\n",
    "    cur.execute(query)\n",
    "\n",
    "    # see phrases\n",
    "    row = cur.fetchone()\n",
    "    while row is not None:\n",
    "      print(row)\n",
    "      input()\n",
    "      row = cur.fetchone()\n",
    "\n",
    "    cur.close()\n",
    "    conn.commit()\n",
    "  except (Exception, psycopg2.DatabaseError) as err:\n",
    "    print(err)\n",
    "  finally:\n",
    "    if conn is not None:\n",
    "      conn.close()\n",
    "except KeyboardInterrupt:\n",
    "  pass"
   ]
  },
  {
   "cell_type": "code",
   "execution_count": null,
   "metadata": {
    "id": "SUpsD_UTnUpx"
   },
   "outputs": [],
   "source": [
    "try:\n",
    "  try:\n",
    "    conn = None\n",
    "    conn = psycopg2.connect(DATABASE_URL, sslmode='require')\n",
    "    cur = conn.cursor()\n",
    "\n",
    "    # select data from phrase table\n",
    "    query = '''\n",
    "      SELECT *\n",
    "      FROM links'''\n",
    "    cur.execute(query)\n",
    "\n",
    "    # see phrases\n",
    "    row = cur.fetchone()\n",
    "    while row is not None:\n",
    "      print(row)\n",
    "      input()\n",
    "      row = cur.fetchone()\n",
    "\n",
    "    cur.close()\n",
    "    conn.commit()\n",
    "  except (Exception, psycopg2.DatabaseError) as err:\n",
    "    print(err)\n",
    "  finally:\n",
    "    if conn is not None:\n",
    "      conn.close()\n",
    "except KeyboardInterrupt:\n",
    "  pass"
   ]
  },
  {
   "cell_type": "markdown",
   "metadata": {},
   "source": [
    "Drop rows"
   ]
  },
  {
   "cell_type": "code",
   "execution_count": null,
   "metadata": {},
   "outputs": [],
   "source": [
    "try:\n",
    "  try:\n",
    "    conn = None\n",
    "    conn = psycopg2.connect(DATABASE_URL, sslmode='require')\n",
    "    cur = conn.cursor()\n",
    "\n",
    "    # delete rows from phrase table\n",
    "    query = '''\n",
    "      DELETE FROM phrases\n",
    "      WHERE phrase_id > 10000'''\n",
    "    cur.execute(query)\n",
    "\n",
    "    cur.close()\n",
    "    conn.commit()\n",
    "  except (Exception, psycopg2.DatabaseError) as err:\n",
    "    print(err)\n",
    "  finally:\n",
    "    if conn is not None:\n",
    "      conn.close()\n",
    "except KeyboardInterrupt:\n",
    "  pass"
   ]
  },
  {
   "cell_type": "markdown",
   "metadata": {
    "id": "ZdRGLdDknUpy"
   },
   "source": [
    "Drop tables"
   ]
  },
  {
   "cell_type": "code",
   "execution_count": null,
   "metadata": {},
   "outputs": [],
   "source": [
    "try:\n",
    "  conn = None\n",
    "  conn = psycopg2.connect(DATABASE_URL, sslmode='require')\n",
    "  cur = conn.cursor()\n",
    "  \n",
    "  # drop link table\n",
    "  cur.execute('DROP TABLE links')\n",
    "\n",
    "  cur.close()\n",
    "  conn.commit()\n",
    "except (Exception, psycopg2.DatabaseError) as err:\n",
    "  print(err)\n",
    "finally:\n",
    "  if conn is not None:\n",
    "    conn.close()"
   ]
  },
  {
   "cell_type": "code",
   "execution_count": null,
   "metadata": {
    "id": "kUinK7sXnUpy"
   },
   "outputs": [],
   "source": [
    "try:\n",
    "  conn = None\n",
    "  conn = psycopg2.connect(DATABASE_URL, sslmode='require')\n",
    "  cur = conn.cursor()\n",
    "  \n",
    "  # drop phrase table\n",
    "  cur.execute('DROP TABLE phrases')\n",
    "\n",
    "  cur.close()\n",
    "  conn.commit()\n",
    "except (Exception, psycopg2.DatabaseError) as err:\n",
    "  print(err)\n",
    "finally:\n",
    "  if conn is not None:\n",
    "    conn.close()"
   ]
  },
  {
   "cell_type": "markdown",
   "metadata": {
    "id": "SVBVqSAEnUpy"
   },
   "source": [
    "#### References"
   ]
  },
  {
   "cell_type": "markdown",
   "metadata": {
    "id": "YiX_wOl6nUpy"
   },
   "source": [
    "[1] www.postgresqltutorial.com\n",
    "\n",
    "[2] https://realpython.com/beautiful-soup-web-scraper-python\n",
    "\n",
    "[3] https://devcenter.heroku.com/articles/heroku-postgresql"
   ]
  }
 ],
 "metadata": {
  "colab": {
   "collapsed_sections": [],
   "name": "database.ipynb",
   "provenance": []
  },
  "kernelspec": {
   "display_name": "Python 3",
   "language": "python",
   "name": "python3"
  },
  "language_info": {
   "codemirror_mode": {
    "name": "ipython",
    "version": 3
   },
   "file_extension": ".py",
   "mimetype": "text/x-python",
   "name": "python",
   "nbconvert_exporter": "python",
   "pygments_lexer": "ipython3",
   "version": "3.8.5"
  }
 },
 "nbformat": 4,
 "nbformat_minor": 4
}
