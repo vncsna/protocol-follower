{
 "cells": [
  {
   "cell_type": "code",
   "execution_count": null,
   "metadata": {},
   "outputs": [],
   "source": [
    "# TODO: Group phrases by author?"
   ]
  },
  {
   "cell_type": "markdown",
   "metadata": {
    "id": "eqRzI--A5wPo"
   },
   "source": [
    "### [Pensador](https://www.pensador.com/)"
   ]
  },
  {
   "cell_type": "markdown",
   "metadata": {
    "id": "e54vHATykM-x"
   },
   "source": [
    "#### Libraries"
   ]
  },
  {
   "cell_type": "code",
   "execution_count": null,
   "metadata": {
    "id": "rRnbAfYu70Bx"
   },
   "outputs": [],
   "source": [
    "!pip install -U python-dotenv"
   ]
  },
  {
   "cell_type": "code",
   "execution_count": null,
   "metadata": {
    "id": "gMliwFC9kM-2"
   },
   "outputs": [],
   "source": [
    "import os\n",
    "import json\n",
    "from pathlib import Path\n",
    "from collections import OrderedDict\n",
    "\n",
    "import requests\n",
    "import psycopg2\n",
    "from bs4 import BeautifulSoup\n",
    "from dotenv import load_dotenv\n",
    "from IPython.display import clear_output"
   ]
  },
  {
   "cell_type": "code",
   "execution_count": null,
   "metadata": {
    "id": "QnqIFOlckPNn"
   },
   "outputs": [],
   "source": [
    "from google.colab import drive\r\n",
    "drive.mount('/content/drive')\r\n",
    "%cd '/content/drive/My Drive/archive/sir-protocol-bot/scraper'"
   ]
  },
  {
   "cell_type": "markdown",
   "metadata": {
    "id": "vodbaGF2kM-3"
   },
   "source": [
    "#### Scraper"
   ]
  },
  {
   "cell_type": "code",
   "execution_count": null,
   "metadata": {
    "id": "ekYd6SDDkM-3"
   },
   "outputs": [],
   "source": [
    "class PensadorScraper:\n",
    "  def __init__(self):\n",
    "    self.links = OrderedDict()\n",
    "    self.phrases = OrderedDict()\n",
    "    self.next_links = ['/']\n",
    "    self.previous_links = set()\n",
    "    self.home = 'https://www.pensador.com'\n",
    "  \n",
    "  def get_links(self, url, soup):\n",
    "    links = []\n",
    "    for a in soup.find_all('a'):\n",
    "      try:\n",
    "        if a['href'].startswith('/') and \\\n",
    "           a['href'].find('.php') == -1 and \\\n",
    "           a['href'].find('/frase') == -1 and \\\n",
    "           a['href'].find('/colecao') == -1:\n",
    "          links.append(a['href'])\n",
    "      except:\n",
    "        print('a tag without href property')\n",
    "    links = set(links)\n",
    "    self.links[url] = list(links)\n",
    "    links = links - self.previous_links\n",
    "    self.next_links.extend(links)\n",
    "\n",
    "  def get_phrases(self, url, soup):\n",
    "    for card in soup.find_all('div', 'thought-card'):\n",
    "      try:\n",
    "        id_ = card.find('p', 'frase')['id']\n",
    "        phrase_ = card.find('p', 'frase').text\n",
    "        phrase_ = phrase_.strip().replace('\\u2060', '')\n",
    "        phrase_ = phrase_.strip().replace('. \\n', '. ')\n",
    "        phrase_ = phrase_.strip().replace('.\\n', '. ')\n",
    "        phrase_ = phrase_.strip().replace('\\n', ' ')\n",
    "      except:\n",
    "        continue\n",
    "      \n",
    "      try:\n",
    "        author_ = card.find('span', 'autor').a.text\n",
    "        author_url_ = card.find('span', 'autor').a['href']\n",
    "      except:\n",
    "        author_ = ''\n",
    "        author_url_ = ''\n",
    "      \n",
    "      try:\n",
    "        n_shares_ = card.find('div', class_='total-shares')\n",
    "        n_shares_ = n_shares_.text.replace(' compartilhamentos', '')\n",
    "        if n_shares_[-4:] == ' mil':\n",
    "          n_shares_ = n_shares_.replace(' mil', '')\n",
    "          n_shares_ = float(n_shares_) * 1000\n",
    "        elif n_shares_:\n",
    "          n_shares_ = float(n_shares_)\n",
    "        else:\n",
    "          n_shares_ = 0\n",
    "      except:\n",
    "        n_shares_ = 0\n",
    "        \n",
    "      try:\n",
    "        img_url_ = card['data-src']\n",
    "      except:\n",
    "        img_url_ = ''\n",
    "      \n",
    "      if id_ not in self.phrases:\n",
    "        self.phrases[id_] = {\n",
    "          'phrase': phrase_,\n",
    "          'phrase_url': f'/frase/{id_}/',\n",
    "          'author': author_,\n",
    "          'author_url': author_url_,\n",
    "          'n_shares': n_shares_,\n",
    "          'img_url': img_url_,\n",
    "          'urls': [url]\n",
    "        }\n",
    "      elif url not in self.phrases[id_]['urls']:\n",
    "        self.phrases[id_]['urls'].append(url)\n",
    "  \n",
    "  def work(self):\n",
    "    try:\n",
    "      i = 0\n",
    "      while self.next_links and i < 10000:\n",
    "        url = self.next_links.pop()\n",
    "        self.previous_links.add(url)\n",
    "\n",
    "        try:\n",
    "          page = requests.get(self.home + url)\n",
    "          page.raise_for_status()\n",
    "        except requests.exceptions.HTTPError as errh:\n",
    "          print('HTTP Error\\n', errh)\n",
    "        except requests.exceptions.ConnectionError as errc:\n",
    "          print('Error Connecting:\\n', errc)\n",
    "        except requests.exceptions.Timeout as errt:\n",
    "          print('Timeout Error:\\n', errt)\n",
    "        except requests.exceptions.RequestException as err:\n",
    "          print('An unexpected error:\\n', err)\n",
    "        else:\n",
    "          soup = BeautifulSoup(page.content, 'html.parser')\n",
    "\n",
    "          self.get_phrases(url, soup)\n",
    "          self.get_links(url, soup)\n",
    "          \n",
    "          prev_size = len(self.previous_links)\n",
    "          next_size = len(self.next_links)\n",
    "          print(url, f'{prev_size}:{next_size}')\n",
    "          clear_output(wait=True)\n",
    "          i += 1\n",
    "    except KeyboardInterrupt:\n",
    "      pass\n",
    "  \n",
    "  def load(self):\n",
    "    with open('./phrases.json', 'r') as file:\n",
    "      self.phrases = json.load(file)\n",
    "    with open('./links.json', 'r') as file:\n",
    "      self.links = json.load(file)\n",
    "    with open('./next_links.json', 'r') as file:\n",
    "      self.next_links = json.load(file)\n",
    "    with open('./previous_links.json', 'r') as file:\n",
    "      self.previous_links = set(json.load(file))\n",
    "  \n",
    "  def save(self):\n",
    "    with open('./phrases.json', 'w') as file:\n",
    "      json.dump(self.phrases, file)\n",
    "    with open('./links.json', 'w') as file:\n",
    "      json.dump(self.links, file)\n",
    "    with open('./next_links.json', 'w') as file:\n",
    "      json.dump(self.next_links, file)\n",
    "    with open('./previous_links.json', 'w') as file:\n",
    "      json.dump(list(self.previous_links), file)\n",
    "  \n",
    "  def remove(self):\n",
    "    Path('./phrases.json').unlink()\n",
    "    Path('./links.json').unlink()\n",
    "    Path('./next_links.json').unlink()\n",
    "    Path('./previous_links.json').unlink()"
   ]
  },
  {
   "cell_type": "code",
   "execution_count": null,
   "metadata": {
    "id": "CpL_-QRJGizq"
   },
   "outputs": [],
   "source": [
    "scraper = PensadorScraper()"
   ]
  },
  {
   "cell_type": "code",
   "execution_count": null,
   "metadata": {
    "id": "0wOpMdLTBfbY"
   },
   "outputs": [],
   "source": [
    "scraper.load()"
   ]
  },
  {
   "cell_type": "code",
   "execution_count": null,
   "metadata": {
    "id": "YQj3CNs8kM-4"
   },
   "outputs": [],
   "source": [
    "scraper.work()"
   ]
  },
  {
   "cell_type": "code",
   "execution_count": null,
   "metadata": {
    "id": "W8euZ_EOzuiG"
   },
   "outputs": [],
   "source": [
    "scraper.save()"
   ]
  },
  {
   "cell_type": "markdown",
   "metadata": {
    "id": "ZPuE688x5wPs"
   },
   "source": [
    "#### References"
   ]
  },
  {
   "cell_type": "markdown",
   "metadata": {
    "id": "yfZSm_3f5wPs"
   },
   "source": [
    "[1] www.postgresqltutorial.com\n",
    "\n",
    "[2] https://realpython.com/beautiful-soup-web-scraper-python\n",
    "\n",
    "[3] https://devcenter.heroku.com/articles/heroku-postgresql"
   ]
  }
 ],
 "metadata": {
  "colab": {
   "collapsed_sections": [],
   "name": "scraper.ipynb",
   "provenance": []
  },
  "kernelspec": {
   "display_name": "Python 3",
   "language": "python",
   "name": "python3"
  },
  "language_info": {
   "codemirror_mode": {
    "name": "ipython",
    "version": 3
   },
   "file_extension": ".py",
   "mimetype": "text/x-python",
   "name": "python",
   "nbconvert_exporter": "python",
   "pygments_lexer": "ipython3",
   "version": "3.8.5"
  }
 },
 "nbformat": 4,
 "nbformat_minor": 4
}
