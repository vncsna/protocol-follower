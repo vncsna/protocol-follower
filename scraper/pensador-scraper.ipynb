{
 "cells": [
  {
   "cell_type": "markdown",
   "metadata": {},
   "source": [
    "#### Libraries"
   ]
  },
  {
   "cell_type": "code",
   "execution_count": null,
   "metadata": {},
   "outputs": [],
   "source": [
    "import os\n",
    "import json\n",
    "\n",
    "import requests\n",
    "import psycopg2\n",
    "from bs4 import BeautifulSoup"
   ]
  },
  {
   "cell_type": "markdown",
   "metadata": {},
   "source": [
    "#### Pensador Scraper"
   ]
  },
  {
   "cell_type": "code",
   "execution_count": null,
   "metadata": {},
   "outputs": [],
   "source": [
    "class PensadorScraper:\n",
    "  def __init__(self):\n",
    "    self.links = {}\n",
    "    self.phrases = {}\n",
    "    self.next_links = ['/']\n",
    "    self.previous_links = set()\n",
    "    self.home = 'https://www.pensador.com'\n",
    "  \n",
    "  def get_links(self, url, soup):\n",
    "    links = [a['href'] \n",
    "             for a in soup.find_all('a') \n",
    "             if a['href'][0] == '/' and\n",
    "                a['href'].find('.php') == -1 and\n",
    "                not a['href'].startswith('/frase')]\n",
    "    self.links[url] = links\n",
    "    links = set(links) - self.previous_links\n",
    "    self.next_links.extend(links)\n",
    "\n",
    "  def get_phrases(self, url, soup):\n",
    "    for card in soup.find_all('div', 'thought-card'):\n",
    "      try:\n",
    "        id_ = card.find('p', 'frase')['id']\n",
    "        phrase_ = card.find('p', 'frase').text.replace('\\u2060', '')\n",
    "      except:\n",
    "        continue\n",
    "      try:\n",
    "        author_ = card.find('span', 'autor').a.text\n",
    "        author_url_ = card.find('span', 'autor').a['href']\n",
    "      except:\n",
    "        author_ = ''\n",
    "        author_url_ = ''\n",
    "      try:\n",
    "        n_shares_ = card.find('div', 'total-shares').text\n",
    "        n_shares_ = n_shares_.replace(' compartilhamentos', '')\n",
    "        if n_shares_.find(' mil') > -1:\n",
    "          n_shares_ = n_shares_.replace(' mil', '')\n",
    "          n_shares_ = float(n_shares_) * 1000\n",
    "        n_shares_ = float(n_shares_)\n",
    "      except:\n",
    "        n_shares_ = 0\n",
    "      try:\n",
    "        img_url_ = card['data-src']\n",
    "      except:\n",
    "        img_url_ = ''\n",
    "\n",
    "      if id_ not in self.phrases:\n",
    "        self.phrases[id_] = {\n",
    "          'phrase': phrase_,\n",
    "          'phrase_url': f'/frase/{id_}/',\n",
    "          'author': author_,\n",
    "          'author_url': author_url_,\n",
    "          'n_shares': n_shares_,\n",
    "          'img_url': img_url_,\n",
    "          'url': [url]\n",
    "        }\n",
    "      else:\n",
    "        self.phrases[id_]['url'].append(url)   \n",
    "  \n",
    "  def work(self):\n",
    "    while self.next_links:\n",
    "      url = self.next_links.pop()\n",
    "      self.previous_links.add(url)\n",
    "      page = requests.get(f'{self.home}{url}')\n",
    "      soup = BeautifulSoup(page.content, 'html.parser')\n",
    "      self.get_links(url, soup)\n",
    "      self.get_phrases(url, soup)\n",
    "      print(f'loading {len(self.previous_links)}:{len(self.next_links)}')\n",
    "  \n",
    "  def save(self):\n",
    "    with open('./pensador-links.json', 'w') as file:\n",
    "      json.dump(self.links, file)\n",
    "    with open('./pensador-phrases.json', 'w') as file:\n",
    "      json.dump(self.phrases, file)"
   ]
  },
  {
   "cell_type": "code",
   "execution_count": null,
   "metadata": {},
   "outputs": [],
   "source": [
    "scraper = PensadorScraper()\n",
    "scraper.work()"
   ]
  },
  {
   "cell_type": "code",
   "execution_count": null,
   "metadata": {},
   "outputs": [],
   "source": [
    "scraper.phrases"
   ]
  },
  {
   "cell_type": "code",
   "execution_count": null,
   "metadata": {},
   "outputs": [],
   "source": [
    "scraper.save()"
   ]
  },
  {
   "cell_type": "code",
   "execution_count": null,
   "metadata": {},
   "outputs": [],
   "source": []
  },
  {
   "cell_type": "markdown",
   "metadata": {},
   "source": [
    "#### Pensador PostgreSQL DB"
   ]
  },
  {
   "cell_type": "code",
   "execution_count": null,
   "metadata": {},
   "outputs": [],
   "source": [
    "%env DATABASE_URL="
   ]
  },
  {
   "cell_type": "code",
   "execution_count": null,
   "metadata": {},
   "outputs": [],
   "source": [
    "DATABASE_URL = os.environ['DATABASE_URL']\n",
    "conn = psycopg2.connect(DATABASE_URL, sslmode='require')\n",
    "cursor = conn.cursor()"
   ]
  },
  {
   "cell_type": "code",
   "execution_count": null,
   "metadata": {},
   "outputs": [],
   "source": [
    "# TODO: Create tables\n",
    "# args_str = ','.join(cur.mogrify(\"(%s,%s,%s,%s,%s,%s,%s,%s,%s)\", x) for x in tup)\n",
    "# cur.execute(\"INSERT INTO table VALUES \" + args_str) "
   ]
  },
  {
   "cell_type": "code",
   "execution_count": null,
   "metadata": {},
   "outputs": [],
   "source": [
    "# TODO: Add rows"
   ]
  },
  {
   "cell_type": "code",
   "execution_count": null,
   "metadata": {},
   "outputs": [],
   "source": []
  }
 ],
 "metadata": {
  "kernelspec": {
   "display_name": "Python 3",
   "language": "python",
   "name": "python3"
  },
  "language_info": {
   "codemirror_mode": {
    "name": "ipython",
    "version": 3
   },
   "file_extension": ".py",
   "mimetype": "text/x-python",
   "name": "python",
   "nbconvert_exporter": "python",
   "pygments_lexer": "ipython3",
   "version": "3.8.5"
  }
 },
 "nbformat": 4,
 "nbformat_minor": 4
}
