{
 "cells": [
  {
   "cell_type": "markdown",
   "metadata": {
    "id": "e54vHATykM-x"
   },
   "source": [
    "#### Libraries"
   ]
  },
  {
   "cell_type": "code",
   "execution_count": null,
   "metadata": {
    "colab": {
     "base_uri": "https://localhost:8080/"
    },
    "executionInfo": {
     "elapsed": 2296,
     "status": "ok",
     "timestamp": 1610653445873,
     "user": {
      "displayName": "Vinicius Aguiar",
      "photoUrl": "https://lh3.googleusercontent.com/a-/AOh14GiIkJJn8xW1Jifzc3Yu1R42MS1Ter43iIMGz9IS=s64",
      "userId": "17869074096365757693"
     },
     "user_tz": 240
    },
    "id": "gMliwFC9kM-2",
    "outputId": "0c941f3f-8452-4b2b-90d9-b870b718a7dc"
   },
   "outputs": [],
   "source": [
    "import os\n",
    "import json\n",
    "from datetime import date\n",
    "\n",
    "import requests\n",
    "import psycopg2\n",
    "from bs4 import BeautifulSoup\n",
    "from dotenv import load_dotenv\n",
    "from IPython.display import clear_output"
   ]
  },
  {
   "cell_type": "code",
   "execution_count": null,
   "metadata": {
    "colab": {
     "base_uri": "https://localhost:8080/"
    },
    "executionInfo": {
     "elapsed": 32243,
     "status": "ok",
     "timestamp": 1610653475823,
     "user": {
      "displayName": "Vinicius Aguiar",
      "photoUrl": "https://lh3.googleusercontent.com/a-/AOh14GiIkJJn8xW1Jifzc3Yu1R42MS1Ter43iIMGz9IS=s64",
      "userId": "17869074096365757693"
     },
     "user_tz": 240
    },
    "id": "QnqIFOlckPNn",
    "outputId": "fa631ca0-67a3-4a5e-c1c6-ab1c3e9f2b0d"
   },
   "outputs": [],
   "source": [
    "from google.colab import drive\r\n",
    "drive.mount('/content/drive')"
   ]
  },
  {
   "cell_type": "markdown",
   "metadata": {
    "id": "vodbaGF2kM-3"
   },
   "source": [
    "#### Pensador Scraper"
   ]
  },
  {
   "cell_type": "code",
   "execution_count": null,
   "metadata": {
    "executionInfo": {
     "elapsed": 32242,
     "status": "ok",
     "timestamp": 1610653475824,
     "user": {
      "displayName": "Vinicius Aguiar",
      "photoUrl": "https://lh3.googleusercontent.com/a-/AOh14GiIkJJn8xW1Jifzc3Yu1R42MS1Ter43iIMGz9IS=s64",
      "userId": "17869074096365757693"
     },
     "user_tz": 240
    },
    "id": "ekYd6SDDkM-3"
   },
   "outputs": [],
   "source": [
    "class PensadorScraper:\n",
    "  def __init__(self):\n",
    "    self.links = {}\n",
    "    self.phrases = {}\n",
    "    self.next_links = ['/']\n",
    "    self.previous_links = set()\n",
    "    self.home = 'https://www.pensador.com'\n",
    "  \n",
    "  def get_links(self, url, soup):\n",
    "    links = [self.home + a['href'][1:] \n",
    "             for a in soup.find_all('a') \n",
    "             if a and \n",
    "                a['href'] and\n",
    "                a['href'].startswith('/') and \n",
    "                a['href'].find('.php') == -1 and\n",
    "                a['href'].find('/frase') == -1 and\n",
    "                a['href'].find('/colecao') == -1]\n",
    "    links = set(links)\n",
    "    self.links[url] = list(links)\n",
    "    links = links - self.previous_links.keys()\n",
    "    self.next_links.extend(links)\n",
    "\n",
    "  def get_phrases(self, url, soup):\n",
    "    for card in soup.find_all('div', 'thought-card'):      \n",
    "      try:\n",
    "        id_ = card.find('p', 'frase')['id']\n",
    "        phrase_ = card.find('p', 'frase').texts\n",
    "        phrase_ = phrase_.strip().replace('\\u2060', '')\n",
    "      except:\n",
    "        continue\n",
    "      \n",
    "      try:\n",
    "        author_ = card.find('span', 'autor').a.text\n",
    "        author_url_ = card.find('span', 'autor').a['href']\n",
    "      except:\n",
    "        author_ = ''\n",
    "        author_url_ = ''\n",
    "      \n",
    "      try:\n",
    "        n_shares = card.find('div', class_='total-shares')\n",
    "        n_shares = n_shares.text.replace(' compartilhamentos', '')\n",
    "        if n_shares[-4:] == ' mil':\n",
    "          n_shares = n_shares.replace(' mil', '')\n",
    "          n_shares = float(n_shares) * 1000\n",
    "        elif n_shares:\n",
    "          n_shares = float(n_shares)\n",
    "        else:\n",
    "          n_shares = 0\n",
    "      except:\n",
    "        n_shares = 0\n",
    "        \n",
    "      try:\n",
    "        img_url_ = card['data-src']\n",
    "      except:\n",
    "        img_url_ = ''\n",
    "\n",
    "      if id_ not in self.phrases:\n",
    "        self.phrases[id_] = {\n",
    "          'phrase': phrase_,\n",
    "          'phrase_url': f'/frase/{id_}/',\n",
    "          'author': author_,\n",
    "          'author_url': author_url_,\n",
    "          'n_shares': n_shares_,\n",
    "          'img_url': img_url_,\n",
    "          'urls': [url]\n",
    "        }\n",
    "      elif url not in self.phrases[id_]['urls']:\n",
    "        self.phrases[id_]['urls'].append(url)\n",
    "  \n",
    "  def work(self):\n",
    "    while self.next_links:\n",
    "      url = self.next_links.pop()\n",
    "\n",
    "      try:\n",
    "        page = requests.get(url)\n",
    "        page.raise_for_status()\n",
    "      except requests.exceptions.HTTPError as errh:\n",
    "        print('HTTP Error\\n', errh)\n",
    "      except requests.exceptions.ConnectionError as errc:\n",
    "        print('Error Connecting:\\n', errc)\n",
    "      except requests.exceptions.Timeout as errt:\n",
    "        print('Timeout Error:\\n', errt)\n",
    "      except requests.exceptions.RequestException as err:\n",
    "        print('An unexpected error:\\n', err)\n",
    "      else:\n",
    "        soup = BeautifulSoup(page.content, 'html.parser')\n",
    "\n",
    "        self.get_links(url, soup)\n",
    "        self.get_phrases(url, soup)\n",
    "        \n",
    "        prev_size = len(self.previous_links)\n",
    "        next_size = len(self.next_links)\n",
    "        print(url, f'{prev_size}:{next_size}')\n",
    "        clear_output(wait=True)\n",
    "  \n",
    "  def load(self, date_):\n",
    "    links_path = f'./pensador-links-{date_}.json'\n",
    "    with open(links_path, 'w') as file:\n",
    "      self.links = json.load(file)\n",
    "    phrases_path = f'./pensador-phrases-{date_}.json'\n",
    "    with open(phrases_path, 'w') as file:\n",
    "      self.phrases = json.load(file)\n",
    "  \n",
    "  def save(self):\n",
    "    links_path = f'./pensador-links-{date.today()}.json'\n",
    "    with open(links_path, 'w') as file:\n",
    "      json.dump(self.links, file)\n",
    "    phrases_path = f'./pensador-phrases-{date.today()}.json'\n",
    "    with open(phrases_path, 'w') as file:\n",
    "      json.dump(self.phrases, file)"
   ]
  },
  {
   "cell_type": "code",
   "execution_count": null,
   "metadata": {
    "colab": {
     "base_uri": "https://localhost:8080/"
    },
    "id": "YQj3CNs8kM-4",
    "outputId": "2c564121-b0d6-4486-e279-cfeea1ed9c84"
   },
   "outputs": [],
   "source": [
    "scraper = PensadorScraper()\n",
    "scraper.work()\n",
    "scraper.save()"
   ]
  },
  {
   "cell_type": "markdown",
   "metadata": {},
   "source": [
    "#### Pensador JSON Dict to SQL Row Converter"
   ]
  },
  {
   "cell_type": "code",
   "execution_count": null,
   "metadata": {},
   "outputs": [],
   "source": [
    "scraper = PensadorScraper()\n",
    "scraper.load('2021-01-15')"
   ]
  },
  {
   "cell_type": "code",
   "execution_count": null,
   "metadata": {},
   "outputs": [],
   "source": [
    "links = []\n",
    "for key in scraper.links:\n",
    "  links.append((\n",
    "    key,\n",
    "    '|'.join(scraper.links[key])\n",
    "  ))\n",
    "links"
   ]
  },
  {
   "cell_type": "code",
   "execution_count": null,
   "metadata": {},
   "outputs": [],
   "source": [
    "phrases = []\n",
    "for key in scraper.phrases:\n",
    "  phrases.append((\n",
    "    key, \n",
    "    scraper.phrases[key]['phrase'], \n",
    "    scraper.phrases[key]['phrase_url'], \n",
    "    scraper.phrases[key]['author'], \n",
    "    scraper.phrases[key]['author_url'], \n",
    "    scraper.phrases[key]['img_url'], \n",
    "    scraper.phrases[key]['n_shares'], \n",
    "    scraper.phrases[key]['urls']\n",
    "  ))\n",
    "phrases"
   ]
  },
  {
   "cell_type": "markdown",
   "metadata": {
    "id": "0OUbqKHlkM-4"
   },
   "source": [
    "#### Pensador PostgreSQL DB"
   ]
  },
  {
   "cell_type": "code",
   "execution_count": null,
   "metadata": {},
   "outputs": [],
   "source": [
    "# references at\n",
    "# www.postgresqltutorial.com/\n",
    "# www.postgresqltutorial.com/postgresql-array/\n",
    "# www.postgresqltutorial.com/postgresql-char-varchar-text/"
   ]
  },
  {
   "cell_type": "code",
   "execution_count": null,
   "metadata": {
    "id": "PfBRGa6pkM-5"
   },
   "outputs": [],
   "source": [
    "# load environment variables\n",
    "load_dotenv(dotenv_path='../.env')"
   ]
  },
  {
   "cell_type": "code",
   "execution_count": null,
   "metadata": {},
   "outputs": [],
   "source": [
    "# TODO: Finish create table block\n",
    "\n",
    "try:\n",
    "  conn = None\n",
    "  DATABASE_URL = os.environ['DATABASE_URL']\n",
    "  conn = psycopg2.connect(DATABASE_URL, sslmode='require')\n",
    "  cur = conn.cursor()\n",
    "  \n",
    "  # create link table\n",
    "  cur.execute('''\n",
    "  \n",
    "  ''')\n",
    "\n",
    "  # create phrase table\n",
    "  cur.execute('''\n",
    "  \n",
    "  ''')\n",
    "\n",
    "  cur.close()\n",
    "  conn.commit()\n",
    "except (Exception, psycopg2.DatabaseError) as err:\n",
    "  print(err)\n",
    "finally:\n",
    "  if conn is not None:\n",
    "    conn.close()"
   ]
  },
  {
   "cell_type": "code",
   "execution_count": null,
   "metadata": {},
   "outputs": [],
   "source": [
    "# TODO: Finish insert table block\n",
    "\n",
    "try:\n",
    "  conn = None\n",
    "  DATABASE_URL = os.environ['DATABASE_URL']\n",
    "  conn = psycopg2.connect(DATABASE_URL, sslmode='require')\n",
    "  cur = conn.cursor()\n",
    "  \n",
    "  # insert data into link table\n",
    "  args_str = ','.join(cur.mogrify('(%s, %s)', x) for x in links)\n",
    "  cur.execute('INSERT INTO links VALUES ' + args_str) \n",
    "\n",
    "  # insert data into phrase table\n",
    "  args_str = ','.join(cur.mogrify('(%s, %s, %s, %s, %s, %s, %s, %s)', x) \n",
    "                      for x in phrases)\n",
    "  cur.execute('INSERT INTO phrases VALUES ' + args_str)\n",
    "\n",
    "  cur.close()\n",
    "  conn.commit()\n",
    "except (Exception, psycopg2.DatabaseError) as err:\n",
    "  print(err)\n",
    "finally:\n",
    "  if conn is not None:\n",
    "    conn.close()"
   ]
  },
  {
   "cell_type": "code",
   "execution_count": null,
   "metadata": {},
   "outputs": [],
   "source": [
    "# TODO: Query random row from phrases table"
   ]
  },
  {
   "cell_type": "code",
   "execution_count": null,
   "metadata": {},
   "outputs": [],
   "source": [
    "# TODO: Transform random phrase"
   ]
  },
  {
   "cell_type": "code",
   "execution_count": null,
   "metadata": {},
   "outputs": [],
   "source": []
  }
 ],
 "metadata": {
  "colab": {
   "collapsed_sections": [],
   "name": "pensador-scraper.ipynb",
   "provenance": []
  },
  "kernelspec": {
   "display_name": "Python 3",
   "language": "python",
   "name": "python3"
  },
  "language_info": {
   "codemirror_mode": {
    "name": "ipython",
    "version": 3
   },
   "file_extension": ".py",
   "mimetype": "text/x-python",
   "name": "python",
   "nbconvert_exporter": "python",
   "pygments_lexer": "ipython3",
   "version": "3.8.5"
  }
 },
 "nbformat": 4,
 "nbformat_minor": 4
}
